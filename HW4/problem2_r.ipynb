{
  "nbformat": 4,
  "nbformat_minor": 0,
  "metadata": {
    "colab": {
      "provenance": [],
      "authorship_tag": "ABX9TyNyNrb6ctcXAhmicDpOfbzd",
      "include_colab_link": true
    },
    "kernelspec": {
      "name": "ir",
      "display_name": "R"
    },
    "language_info": {
      "name": "R"
    }
  },
  "cells": [
    {
      "cell_type": "markdown",
      "metadata": {
        "id": "view-in-github",
        "colab_type": "text"
      },
      "source": [
        "<a href=\"https://colab.research.google.com/github/ryanhassell/IDS/blob/main/HW4/problem2_r.ipynb\" target=\"_parent\"><img src=\"https://colab.research.google.com/assets/colab-badge.svg\" alt=\"Open In Colab\"/></a>"
      ]
    },
    {
      "cell_type": "markdown",
      "source": [
        "#Ryan Hassell"
      ],
      "metadata": {
        "id": "bRlOIrm_VheX"
      }
    },
    {
      "cell_type": "markdown",
      "source": [
        "#Importing and Cleaning Data"
      ],
      "metadata": {
        "id": "7cerHq2EVjiA"
      }
    },
    {
      "cell_type": "code",
      "source": [
        "# import data\n",
        "library(readr)\n",
        "nutrition <- read_csv(\"https://raw.githubusercontent.com/bforoura/IDS/main/HW4/nutrition_subset.csv\", show_col_types = FALSE)"
      ],
      "metadata": {
        "id": "5FmEz1lmVliZ"
      },
      "execution_count": 1,
      "outputs": []
    },
    {
      "cell_type": "code",
      "source": [
        "print(nutrition)"
      ],
      "metadata": {
        "colab": {
          "base_uri": "https://localhost:8080/"
        },
        "id": "NAqaA3eAWcT_",
        "outputId": "8e74cc6d-082c-47e9-8167-2df4680b978c"
      },
      "execution_count": 2,
      "outputs": [
        {
          "output_type": "stream",
          "name": "stdout",
          "text": [
            "\u001b[90m# A tibble: 961 × 4\u001b[39m\n",
            "   `food item`                         weight_in_grams saturated_fat cholesterol\n",
            "   \u001b[3m\u001b[90m<chr>\u001b[39m\u001b[23m                                         \u001b[3m\u001b[90m<dbl>\u001b[39m\u001b[23m         \u001b[3m\u001b[90m<dbl>\u001b[39m\u001b[23m       \u001b[3m\u001b[90m<dbl>\u001b[39m\u001b[23m\n",
            "\u001b[90m 1\u001b[39m GELATIN; DRY                  1 EN…             7             0             0\n",
            "\u001b[90m 2\u001b[39m SEAWEED; SPIRULINA; DRIED     1 OZ             28.4           0.8           0\n",
            "\u001b[90m 3\u001b[39m YEAST; BAKERS; DRY; ACTIVE    1 PKG             7             0             0\n",
            "\u001b[90m 4\u001b[39m PARMESAN CHEESE; GRATED       1 OZ             28.4           5.4          22\n",
            "\u001b[90m 5\u001b[39m PARMESAN CHEESE; GRATED       1 CUP           100            19.1          79\n",
            "\u001b[90m 6\u001b[39m PARMESAN CHEESE; GRATED       1 TB…             5             1             4\n",
            "\u001b[90m 7\u001b[39m YEAST; BREWERS; DRY           1 TB…             8             0             0\n",
            "\u001b[90m 8\u001b[39m LAMB;CHOPS;ARM;BRAISED;LEAN   1.7 …            48             2.9          59\n",
            "\u001b[90m 9\u001b[39m TUNA; CANND; DRND;WATR; WHITE 3 OZ             85             0.3          48\n",
            "\u001b[90m10\u001b[39m NONFAT DRY MILK; INSTANTIZED  1 CUP            68             0.3          12\n",
            "\u001b[90m# ℹ 951 more rows\u001b[39m\n"
          ]
        }
      ]
    },
    {
      "cell_type": "code",
      "source": [
        "# summary of nutrition table\n",
        "summary(nutrition)"
      ],
      "metadata": {
        "colab": {
          "base_uri": "https://localhost:8080/",
          "height": 139
        },
        "id": "92CXNCKxV1im",
        "outputId": "454ed9fb-6ec0-4e5f-fc63-fb73d47a73cd"
      },
      "execution_count": 3,
      "outputs": [
        {
          "output_type": "display_data",
          "data": {
            "text/plain": [
              "  food item         weight_in_grams  saturated_fat      cholesterol     \n",
              " Length:961         Min.   :   0.4   Min.   :  0.000   Min.   :   0.00  \n",
              " Class :character   1st Qu.:  32.0   1st Qu.:  0.000   1st Qu.:   0.00  \n",
              " Mode  :character   Median : 113.0   Median :  0.400   Median :   0.00  \n",
              "                    Mean   : 149.4   Mean   :  3.988   Mean   :  32.55  \n",
              "                    3rd Qu.: 218.0   3rd Qu.:  3.300   3rd Qu.:  20.00  \n",
              "                    Max.   :1542.0   Max.   :119.900   Max.   :2053.00  "
            ]
          },
          "metadata": {}
        }
      ]
    },
    {
      "cell_type": "markdown",
      "source": [
        "While some of these data values may be zero, this is actually legitimate data. Nutrition facts can contain zeroes."
      ],
      "metadata": {
        "id": "JVQA1a2cWph-"
      }
    },
    {
      "cell_type": "markdown",
      "source": [
        "# Sorting the Data"
      ],
      "metadata": {
        "id": "OJSvZZbSWwLy"
      }
    },
    {
      "cell_type": "code",
      "source": [
        "# sort\n",
        "nutrition_sorted <- nutrition[order(nutrition$saturated_fat, decreasing = TRUE),]\n",
        "\n",
        "print(head(nutrition_sorted, 5))"
      ],
      "metadata": {
        "colab": {
          "base_uri": "https://localhost:8080/"
        },
        "id": "UyJlSRdKXADF",
        "outputId": "30020895-324a-4b8c-f3b8-cd80e5e442f7"
      },
      "execution_count": 4,
      "outputs": [
        {
          "output_type": "stream",
          "name": "stdout",
          "text": [
            "\u001b[90m# A tibble: 5 × 4\u001b[39m\n",
            "  `food item`                          weight_in_grams saturated_fat cholesterol\n",
            "  \u001b[3m\u001b[90m<chr>\u001b[39m\u001b[23m                                          \u001b[3m\u001b[90m<dbl>\u001b[39m\u001b[23m         \u001b[3m\u001b[90m<dbl>\u001b[39m\u001b[23m       \u001b[3m\u001b[90m<dbl>\u001b[39m\u001b[23m\n",
            "\u001b[90m1\u001b[39m CHEESECAKE                    1 CAKE            \u001b[4m1\u001b[24m110         120.         \u001b[4m2\u001b[24m053\n",
            "\u001b[90m2\u001b[39m ICE CREAM; VANLLA; RICH 16% FT1/2 G…            \u001b[4m1\u001b[24m188         118.          703\n",
            "\u001b[90m3\u001b[39m YELLOWCAKE W/ CHOCFRSTNG;COMML1 CAKE            \u001b[4m1\u001b[24m108          92           609\n",
            "\u001b[90m4\u001b[39m CREME PIE                     1 PIE              910          90.1          46\n",
            "\u001b[90m5\u001b[39m LARD                          1 CUP              205          80.4         195\n"
          ]
        }
      ]
    },
    {
      "cell_type": "markdown",
      "source": [
        "According to this list, cheesecake is the worst. However, this list of items is incorrect because the size of each item is inconsistent. We need to compare stats by each gram.\n",
        "\n",
        "In order to do this, we will create a new column saturated_fat_by_gram."
      ],
      "metadata": {
        "id": "m0nepIZxXWiU"
      }
    },
    {
      "cell_type": "markdown",
      "source": [
        "#Saturated Fat by Gram"
      ],
      "metadata": {
        "id": "sGoG1Q_jXAUx"
      }
    },
    {
      "cell_type": "code",
      "source": [
        "# create sfat_gram column\n",
        "nutrition$sfat_gram <- (nutrition$saturated_fat/nutrition$weight_in_grams)\n",
        "\n",
        "# created a sorted table\n",
        "sorted_by_sfat <- nutrition[order(nutrition$sfat_gram, decreasing = TRUE),]\n",
        "\n",
        "# print said sorted table\n",
        "print(head(sorted_by_sfat, 5))"
      ],
      "metadata": {
        "colab": {
          "base_uri": "https://localhost:8080/"
        },
        "id": "S4O1tR5TXEUa",
        "outputId": "9b04790f-d3f1-413e-da64-a05382782bb1"
      },
      "execution_count": 5,
      "outputs": [
        {
          "output_type": "stream",
          "name": "stdout",
          "text": [
            "\u001b[90m# A tibble: 5 × 5\u001b[39m\n",
            "  `food item`                weight_in_grams saturated_fat cholesterol sfat_gram\n",
            "  \u001b[3m\u001b[90m<chr>\u001b[39m\u001b[23m                                \u001b[3m\u001b[90m<dbl>\u001b[39m\u001b[23m         \u001b[3m\u001b[90m<dbl>\u001b[39m\u001b[23m       \u001b[3m\u001b[90m<dbl>\u001b[39m\u001b[23m     \u001b[3m\u001b[90m<dbl>\u001b[39m\u001b[23m\n",
            "\u001b[90m1\u001b[39m BUTTER; SALTED           …              14           7.1          31     0.507\n",
            "\u001b[90m2\u001b[39m BUTTER; UNSALTED         …              14           7.1          31     0.507\n",
            "\u001b[90m3\u001b[39m BUTTER; SALTED           …             113          57.1         247     0.505\n",
            "\u001b[90m4\u001b[39m BUTTER; UNSALTED         …             113          57.1         247     0.505\n",
            "\u001b[90m5\u001b[39m BUTTER; SALTED           …               5           2.5          11     0.5  \n"
          ]
        }
      ]
    },
    {
      "cell_type": "markdown",
      "source": [
        "Now, after sorting, it seems that butter is actually the fattiest food in our dataset."
      ],
      "metadata": {
        "id": "-z11DFk5ZiNN"
      }
    },
    {
      "cell_type": "markdown",
      "source": [
        "#Standardization"
      ],
      "metadata": {
        "id": "2AjCB7OPXEYq"
      }
    },
    {
      "cell_type": "code",
      "source": [
        "# create scaled_sfat_gram column\n",
        "nutrition$scaled_sfat_gram <- scale(nutrition$sfat_gram)\n",
        "\n",
        "# 3sig\n",
        "threesig <- (nutrition$sfat_gram < -3 |\n",
        "                     nutrition$scaled_sfat_gram > 3 )\n",
        "outliers <- nutrition[threesig , ]\n",
        "\n",
        "# sort\n",
        "outliers <- outliers[order(-outliers$scaled_sfat_gram), ]\n",
        "\n",
        "cat (\"scaled_sfat_gram has\",sum(threesig),\"outliers\\n\")\n",
        "\n",
        "print(outliers)"
      ],
      "metadata": {
        "colab": {
          "base_uri": "https://localhost:8080/"
        },
        "id": "h_CGp774XGu3",
        "outputId": "1cb4644c-4a46-4475-ba30-ade0da876679"
      },
      "execution_count": 19,
      "outputs": [
        {
          "output_type": "stream",
          "name": "stdout",
          "text": [
            "scaled_sfat_gram has 15 outliers\n",
            "\u001b[90m# A tibble: 15 × 8\u001b[39m\n",
            "   `food item`               weight_in_grams saturated_fat cholesterol sfat_gram\n",
            "   \u001b[3m\u001b[90m<chr>\u001b[39m\u001b[23m                               \u001b[3m\u001b[90m<dbl>\u001b[39m\u001b[23m         \u001b[3m\u001b[90m<dbl>\u001b[39m\u001b[23m       \u001b[3m\u001b[90m<dbl>\u001b[39m\u001b[23m     \u001b[3m\u001b[90m<dbl>\u001b[39m\u001b[23m\n",
            "\u001b[90m 1\u001b[39m BUTTER; SALTED          …            14             7.1          31     0.507\n",
            "\u001b[90m 2\u001b[39m BUTTER; UNSALTED        …            14             7.1          31     0.507\n",
            "\u001b[90m 3\u001b[39m BUTTER; SALTED          …           113            57.1         247     0.505\n",
            "\u001b[90m 4\u001b[39m BUTTER; UNSALTED        …           113            57.1         247     0.505\n",
            "\u001b[90m 5\u001b[39m BUTTER; SALTED          …             5             2.5          11     0.5  \n",
            "\u001b[90m 6\u001b[39m BUTTER; UNSALTED        …             5             2.5          11     0.5  \n",
            "\u001b[90m 7\u001b[39m LARD                    …            13             5.1          12     0.392\n",
            "\u001b[90m 8\u001b[39m LARD                    …           205            80.4         195     0.392\n",
            "\u001b[90m 9\u001b[39m IMITATION CREAMERS; POWD…             2             0.7           0     0.35 \n",
            "\u001b[90m10\u001b[39m CHOCOLATE; BITTER OT BAK…            28.4           9             0     0.317\n",
            "\u001b[90m11\u001b[39m COCONUT; DRIED; SWEETND;…            93            29.3           0     0.315\n",
            "\u001b[90m12\u001b[39m COCONUT; RAW; PIECE     …            45            13.4           0     0.298\n",
            "\u001b[90m13\u001b[39m COCONUT; RAW; SHREDDED  …            80            23.8           0     0.298\n",
            "\u001b[90m14\u001b[39m FATS; COOKING/VEGETBL SH…            13             3.3           0     0.254\n",
            "\u001b[90m15\u001b[39m FATS; COOKING/VEGETBL SH…           205            51.3           0     0.250\n",
            "\u001b[90m# ℹ 3 more variables: scaled_sfat_gram <dbl[,1]>, scaled_chol <dbl[,1]>,\u001b[39m\n",
            "\u001b[90m#   scaled_weight <dbl[,1]>\u001b[39m\n"
          ]
        }
      ]
    },
    {
      "cell_type": "markdown",
      "source": [
        "From our standardization procedure, we have deduced that there are fifteen outliers present in the scaled saturated fat column."
      ],
      "metadata": {
        "id": "WQwaERuAaOTu"
      }
    },
    {
      "cell_type": "markdown",
      "source": [
        "#High end and Low end outliers"
      ],
      "metadata": {
        "id": "h6fKsgFTXGyr"
      }
    },
    {
      "cell_type": "code",
      "source": [
        "# make 3sig rules for high and low cases\n",
        "sigHigh <- (nutrition$scaled_sfat_gram > 3)\n",
        "sigLow <- (nutrition$scaled_sfat_gram < -3)\n",
        "\n",
        "# get outliers for high and low cases\n",
        "high <- nutrition$scaled_sfat_gram[which(sigHigh)]\n",
        "low <- nutrition$scaled_sfat_gram[which(sigLow)]\n",
        "\n",
        "cat(\"num high outliers:\", length(high))\n",
        "cat(\"\\nnum low outliers:\", length(low))"
      ],
      "metadata": {
        "colab": {
          "base_uri": "https://localhost:8080/"
        },
        "id": "51RtsgkTXK76",
        "outputId": "f2a36a87-f3a8-424b-9130-e6e28877f227"
      },
      "execution_count": 7,
      "outputs": [
        {
          "output_type": "stream",
          "name": "stdout",
          "text": [
            "num high outliers: 15\n",
            "num low outliers: 0"
          ]
        }
      ]
    },
    {
      "cell_type": "code",
      "source": [
        "# create a density graph of the scaled variable\n",
        "plot(density(nutrition$scaled_sfat_gram, na.rm = TRUE), main=\"Scaled SatFat/g\")"
      ],
      "metadata": {
        "colab": {
          "base_uri": "https://localhost:8080/",
          "height": 437
        },
        "id": "XOmIqFb3cnRb",
        "outputId": "f65a61d1-6514-4c19-fdb2-ac994ac255f5"
      },
      "execution_count": 8,
      "outputs": [
        {
          "output_type": "display_data",
          "data": {
            "text/plain": [
              "Plot with title “Scaled SatFat/g”"
            ],
            "image/png": "[encoded data removed]"
          },
          "metadata": {
            "image/png": {
              "width": 420,
              "height": 420
            }
          }
        }
      ]
    },
    {
      "cell_type": "markdown",
      "source": [
        "#Check for missing variables"
      ],
      "metadata": {
        "id": "OyBPyZzqdUmC"
      }
    },
    {
      "cell_type": "code",
      "source": [
        "# check if anything has no value in nutrition\n",
        "colSums(is.na(nutrition))"
      ],
      "metadata": {
        "colab": {
          "base_uri": "https://localhost:8080/",
          "height": 34
        },
        "id": "bkG9nQa_dWPK",
        "outputId": "be926e69-0efd-41a9-f63a-8018c25cd9c8"
      },
      "execution_count": 9,
      "outputs": [
        {
          "output_type": "display_data",
          "data": {
            "text/html": [
              "<style>\n",
              ".dl-inline {width: auto; margin:0; padding: 0}\n",
              ".dl-inline>dt, .dl-inline>dd {float: none; width: auto; display: inline-block}\n",
              ".dl-inline>dt::after {content: \":\\0020\"; padding-right: .5ex}\n",
              ".dl-inline>dt:not(:first-of-type) {padding-left: .5ex}\n",
              "</style><dl class=dl-inline><dt>food item</dt><dd>0</dd><dt>weight_in_grams</dt><dd>0</dd><dt>saturated_fat</dt><dd>0</dd><dt>cholesterol</dt><dd>0</dd><dt>sfat_gram</dt><dd>0</dd><dt>6</dt><dd>0</dd></dl>\n"
            ],
            "text/markdown": "food item\n:   0weight_in_grams\n:   0saturated_fat\n:   0cholesterol\n:   0sfat_gram\n:   06\n:   0\n\n",
            "text/latex": "\\begin{description*}\n\\item[food item] 0\n\\item[weight\\textbackslash{}\\_in\\textbackslash{}\\_grams] 0\n\\item[saturated\\textbackslash{}\\_fat] 0\n\\item[cholesterol] 0\n\\item[sfat\\textbackslash{}\\_gram] 0\n\\item[6] 0\n\\end{description*}\n",
            "text/plain": [
              "      food item weight_in_grams   saturated_fat     cholesterol       sfat_gram \n",
              "              0               0               0               0               0 \n",
              "                \n",
              "              0 "
            ]
          },
          "metadata": {}
        }
      ]
    },
    {
      "cell_type": "markdown",
      "source": [
        "No missing variables."
      ],
      "metadata": {
        "id": "d1ZcTweuddkq"
      }
    },
    {
      "cell_type": "markdown",
      "source": [
        "#Checking other variables for outliers"
      ],
      "metadata": {
        "id": "ujimPsWcXLAN"
      }
    },
    {
      "cell_type": "code",
      "source": [
        "# create column scaled_chol\n",
        "nutrition$scaled_chol <- scale(x = nutrition$cholesterol)\n",
        "\n",
        "# create high and low sig\n",
        "highsig <- (nutrition$scaled_chol > 3)\n",
        "lowsig <- (nutrition$scaled_chol < -3)\n",
        "\n",
        "# print out the # of high and low outliers in scaled_chol\n",
        "cat (\"column 'scaled_chol' has\", sum(highsig), \"high outliers\")\n",
        "cat (\" and has\", sum(lowsig), \"low outliers\")\n",
        "\n",
        "# print the summary of scaled_chol\n",
        "summary(nutrition$scaled_chol)"
      ],
      "metadata": {
        "colab": {
          "base_uri": "https://localhost:8080/",
          "height": 156
        },
        "id": "6gdMz1W4XNVB",
        "outputId": "4440440e-7b85-4b41-fb0d-76233307d0c0"
      },
      "execution_count": 10,
      "outputs": [
        {
          "output_type": "stream",
          "name": "stdout",
          "text": [
            "column 'scaled_chol' has 17 high outliers and has 0 low outliers"
          ]
        },
        {
          "output_type": "display_data",
          "data": {
            "text/plain": [
              "       V1         \n",
              " Min.   :-0.2714  \n",
              " 1st Qu.:-0.2714  \n",
              " Median :-0.2714  \n",
              " Mean   : 0.0000  \n",
              " 3rd Qu.:-0.1046  \n",
              " Max.   :16.8426  "
            ]
          },
          "metadata": {}
        }
      ]
    },
    {
      "cell_type": "code",
      "source": [
        "# create column scaled_weight\n",
        "nutrition$scaled_weight <- scale(x = nutrition$weight_in_grams)\n",
        "\n",
        "# create high and low sig\n",
        "highsigweight <- (nutrition$scaled_weight > 3)\n",
        "lowsigweight <- (nutrition$scaled_weight < -3)\n",
        "\n",
        "# print out the # of high and low outliers in scaled_chol\n",
        "cat (\"column 'scaled_weight' has\", sum(highsigweight), \"high outliers\")\n",
        "cat (\" and has\", sum(lowsigweight), \"low outliers\")\n",
        "\n",
        "# print the summary of scaled_weight\n",
        "summary(nutrition$scaled_weight)"
      ],
      "metadata": {
        "colab": {
          "base_uri": "https://localhost:8080/",
          "height": 156
        },
        "id": "DMlIeTrHeyAa",
        "outputId": "8a03823a-565f-4651-8264-83ef21e79037"
      },
      "execution_count": 11,
      "outputs": [
        {
          "output_type": "stream",
          "name": "stdout",
          "text": [
            "column 'scaled_weight' has 22 high outliers and has 0 low outliers"
          ]
        },
        {
          "output_type": "display_data",
          "data": {
            "text/plain": [
              "       V1         \n",
              " Min.   :-0.8471  \n",
              " 1st Qu.:-0.6674  \n",
              " Median :-0.2070  \n",
              " Mean   : 0.0000  \n",
              " 3rd Qu.: 0.3899  \n",
              " Max.   : 7.9165  "
            ]
          },
          "metadata": {}
        }
      ]
    },
    {
      "cell_type": "markdown",
      "source": [
        "#Summary"
      ],
      "metadata": {
        "id": "7t6DLQ3qXNZw"
      }
    },
    {
      "cell_type": "markdown",
      "source": [
        "Through the investigation, I have discovered that, when sorted correctly (by satfat/g), the highest content of saturated fats is in butters. In terms of outliers, I have concluded that:\n",
        "\n",
        "*   Column 'cholesterol' has 17 outliers\n",
        "*   Column 'weight' has 22 outliers\n",
        "*   Column 'saturated_fat_per_gram' has 15 outliers\n",
        "*   None of these columns have any low end outliers"
      ],
      "metadata": {
        "id": "Z80oX1x2XOQ6"
      }
    }
  ]
}