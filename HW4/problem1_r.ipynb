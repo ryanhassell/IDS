{
  "nbformat": 4,
  "nbformat_minor": 0,
  "metadata": {
    "colab": {
      "provenance": [],
      "authorship_tag": "ABX9TyMbcnmretyOgC5NpgKN9CAz",
      "include_colab_link": true
    },
    "kernelspec": {
      "name": "ir",
      "display_name": "R"
    },
    "language_info": {
      "name": "R"
    }
  },
  "cells": [
    {
      "cell_type": "markdown",
      "metadata": {
        "id": "view-in-github",
        "colab_type": "text"
      },
      "source": [
        "<a href=\"https://colab.research.google.com/github/ryanhassell/IDS/blob/main/HW4/problem1_r.ipynb\" target=\"_parent\"><img src=\"https://colab.research.google.com/assets/colab-badge.svg\" alt=\"Open In Colab\"/></a>"
      ]
    },
    {
      "cell_type": "markdown",
      "source": [
        "# Ryan Hassell"
      ],
      "metadata": {
        "id": "pKSPmsecH0Rq"
      }
    },
    {
      "cell_type": "markdown",
      "source": [
        "# Importing and Cleaning Data"
      ],
      "metadata": {
        "id": "fJWwmGVVJzy9"
      }
    },
    {
      "cell_type": "code",
      "source": [
        "#import\n",
        "library(readr)\n",
        "\n",
        "#import the csv file\n",
        "adult_training <- read_csv(\"https://raw.githubusercontent.com/bforoura/IDS/main/HW4/adult_training.csv\", show_col_types = FALSE)"
      ],
      "metadata": {
        "id": "3ydxqQOSH9Fu"
      },
      "execution_count": 3,
      "outputs": []
    },
    {
      "cell_type": "code",
      "source": [
        "# print the csv\n",
        "summary(adult_training)"
      ],
      "metadata": {
        "colab": {
          "base_uri": "https://localhost:8080/",
          "height": 382
        },
        "id": "EXBYP2HVIMoR",
        "outputId": "016f3620-772f-4ee4-8a3e-90c06f5f65dc"
      },
      "execution_count": 4,
      "outputs": [
        {
          "output_type": "display_data",
          "data": {
            "text/plain": [
              "      age         workclass           education     marital-status    \n",
              " Min.   :17.00   Length:14797       Min.   : 1.00   Length:14797      \n",
              " 1st Qu.:28.00   Class :character   1st Qu.: 9.00   Class :character  \n",
              " Median :37.00   Mode  :character   Median :10.00   Mode  :character  \n",
              " Mean   :38.69                      Mean   :10.07                     \n",
              " 3rd Qu.:48.00                      3rd Qu.:12.00                     \n",
              " Max.   :90.00                      Max.   :16.00                     \n",
              "  occupation            sex             capital-gain    capital-loss    \n",
              " Length:14797       Length:14797       Min.   :    0   Min.   :   0.00  \n",
              " Class :character   Class :character   1st Qu.:    0   1st Qu.:   0.00  \n",
              " Mode  :character   Mode  :character   Median :    0   Median :   0.00  \n",
              "                                       Mean   : 1067   Mean   :  88.58  \n",
              "                                       3rd Qu.:    0   3rd Qu.:   0.00  \n",
              "                                       Max.   :99999   Max.   :4356.00  \n",
              "    income         \n",
              " Length:14797      \n",
              " Class :character  \n",
              " Mode  :character  \n",
              "                   \n",
              "                   \n",
              "                   "
            ]
          },
          "metadata": {}
        }
      ]
    },
    {
      "cell_type": "markdown",
      "source": [
        "We have to clean the csv of noise, notably the 0s and 99999s. I have done this by replacing every instance of 0 or 99999 with NaN, and then replacing all NaN with the column averages."
      ],
      "metadata": {
        "id": "kOdz5s36Isv7"
      }
    },
    {
      "cell_type": "code",
      "source": [
        "# get rid of 0 and 99999\n",
        "adult_training$`capital-gain` <- ifelse(adult_training$`capital-gain` == 0, yes = NA, no = adult_training$`capital-gain`)\n",
        "adult_training$`capital-gain` <- ifelse(adult_training$`capital-gain` == 99999, yes = NA, no = adult_training$`capital-gain`)\n",
        "adult_training$`capital-loss` <- ifelse(adult_training$`capital-loss` == 0, yes = NA, no = adult_training$`capital-loss`)\n",
        "\n",
        "# replace bad values with average\n",
        "adult_training$`capital-gain` <- ifelse(is.na(adult_training$`capital-gain`), mean(adult_training$`capital-gain`, na.rm = TRUE), adult_training$`capital-gain`)\n",
        "adult_training$`capital-loss` <- ifelse(is.na(adult_training$`capital-loss`), mean(adult_training$`capital-loss`, na.rm = TRUE), adult_training$`capital-loss`)\n",
        "\n",
        "summary(adult_training)\n"
      ],
      "metadata": {
        "colab": {
          "base_uri": "https://localhost:8080/",
          "height": 382
        },
        "id": "r9r6j3W3Iy8s",
        "outputId": "654b3733-e637-4c92-99da-aa21137ff7ca"
      },
      "execution_count": 8,
      "outputs": [
        {
          "output_type": "display_data",
          "data": {
            "text/plain": [
              "      age         workclass           education     marital-status    \n",
              " Min.   :17.00   Length:14797       Min.   : 1.00   Length:14797      \n",
              " 1st Qu.:28.00   Class :character   1st Qu.: 9.00   Class :character  \n",
              " Median :37.00   Mode  :character   Median :10.00   Mode  :character  \n",
              " Mean   :38.69                      Mean   :10.07                     \n",
              " 3rd Qu.:48.00                      3rd Qu.:12.00                     \n",
              " Max.   :90.00                      Max.   :16.00                     \n",
              "  occupation            sex             capital-gain    capital-loss \n",
              " Length:14797       Length:14797       Min.   :  114   Min.   : 213  \n",
              " Class :character   Class :character   1st Qu.: 7637   1st Qu.:1878  \n",
              " Mode  :character   Mode  :character   Median : 7637   Median :1878  \n",
              "                                       Mean   : 7637   Mean   :1878  \n",
              "                                       3rd Qu.: 7637   3rd Qu.:1878  \n",
              "                                       Max.   :41310   Max.   :4356  \n",
              "    income         \n",
              " Length:14797      \n",
              " Class :character  \n",
              " Mode  :character  \n",
              "                   \n",
              "                   \n",
              "                   "
            ]
          },
          "metadata": {}
        }
      ]
    },
    {
      "cell_type": "markdown",
      "source": [
        "Our data is now cleaned and ready to be plotted, etc."
      ],
      "metadata": {
        "id": "6ynYlw8eJ250"
      }
    },
    {
      "cell_type": "markdown",
      "source": [
        "# Contingency Table of Working Class and Sex"
      ],
      "metadata": {
        "id": "jfv8Dr1TJ6rT"
      }
    },
    {
      "cell_type": "markdown",
      "source": [
        "We now need to create a table for working class and sex."
      ],
      "metadata": {
        "id": "WXxU1EPyVLGe"
      }
    },
    {
      "cell_type": "code",
      "source": [
        "# create table\n",
        "ws_table <- table(adult_training$sex, adult_training$workclass)\n",
        "print(ws_table)"
      ],
      "metadata": {
        "colab": {
          "base_uri": "https://localhost:8080/"
        },
        "id": "O3jZm0uhKbfQ",
        "outputId": "d0061264-2039-407d-b1ab-05cdab234b1a"
      },
      "execution_count": 18,
      "outputs": [
        {
          "output_type": "stream",
          "name": "stdout",
          "text": [
            "        \n",
            "            ? Federal-gov Local-gov Never-worked Private Self-emp-inc\n",
            "  Female  377         149       377            1    3574           54\n",
            "  Male    452         305       592            4    6707          444\n",
            "        \n",
            "         Self-emp-not-inc State-gov Without-pay\n",
            "  Female              178       201           1\n",
            "  Male                992       385           4\n"
          ]
        }
      ]
    },
    {
      "cell_type": "markdown",
      "source": [
        "# Plot of Contingency Table of Working Class Sex"
      ],
      "metadata": {
        "id": "tb5X2wzyPxtn"
      }
    },
    {
      "cell_type": "code",
      "source": [
        "# create graph for working class and sex\n",
        "barplot(ws_table, legend = rownames(ws_table), beside = TRUE, col=c(\"green\",\"blue\"))"
      ],
      "metadata": {
        "colab": {
          "base_uri": "https://localhost:8080/",
          "height": 437
        },
        "id": "iHgPVPebN59g",
        "outputId": "37e9fead-e329-45ff-82f6-0cd58e913ea7"
      },
      "execution_count": 24,
      "outputs": [
        {
          "output_type": "display_data",
          "data": {
            "text/plain": [
              "plot without title"
            ],
            "image/png": "[encoded data removed]"
          },
          "metadata": {
            "image/png": {
              "width": 420,
              "height": 420
            }
          }
        }
      ]
    },
    {
      "cell_type": "markdown",
      "source": [
        "From this graph, we can determine that most people are working for private companies, and almost none have worked without pay or have never worked at all."
      ],
      "metadata": {
        "id": "SYtXTPXCaHFG"
      }
    },
    {
      "cell_type": "markdown",
      "source": [
        "# Marital Status and Sex Contingency Table\n"
      ],
      "metadata": {
        "id": "NzJ6yLhyKA-I"
      }
    },
    {
      "cell_type": "code",
      "source": [
        "# create table for marital status and sex\n",
        "mss_table <- table(data$sex, data$`marital-status`)\n",
        "print(mss_table)"
      ],
      "metadata": {
        "colab": {
          "base_uri": "https://localhost:8080/"
        },
        "id": "77hGZOKEKcFl",
        "outputId": "e17808e3-596d-4d2d-9859-344472483388"
      },
      "execution_count": 25,
      "outputs": [
        {
          "output_type": "stream",
          "name": "stdout",
          "text": [
            "        \n",
            "         Divorced Married-AF-spouse Married-civ-spouse Married-spouse-absent\n",
            "  Female     1219                 7                761                    95\n",
            "  Male        795                 4               6010                   104\n",
            "        \n",
            "         Never-married Separated Widowed\n",
            "  Female          2160       290     380\n",
            "  Male            2717       182      73\n"
          ]
        }
      ]
    },
    {
      "cell_type": "markdown",
      "source": [
        "# Contingency Plot of Marital Status and Sex"
      ],
      "metadata": {
        "id": "9VgHMccrKEZs"
      }
    },
    {
      "cell_type": "code",
      "source": [
        "# create bar plot\n",
        "barplot(mss_table, legend = rownames(ws_table), beside = TRUE, col=c(\"green\",\"blue\"))"
      ],
      "metadata": {
        "colab": {
          "base_uri": "https://localhost:8080/",
          "height": 437
        },
        "id": "e8dtcimfKc0L",
        "outputId": "f9a16aee-ff1a-4e2b-d80d-d92aa3e44325"
      },
      "execution_count": 27,
      "outputs": [
        {
          "output_type": "display_data",
          "data": {
            "text/plain": [
              "plot without title"
            ],
            "image/png": "[encoded data removed]"
          },
          "metadata": {
            "image/png": {
              "width": 420,
              "height": 420
            }
          }
        }
      ]
    },
    {
      "cell_type": "markdown",
      "source": [
        "From this data we can deduce that more men are married to civ-spouses, or spouses that are civilians."
      ],
      "metadata": {
        "id": "FBvOVJyUaCZG"
      }
    },
    {
      "cell_type": "markdown",
      "source": [
        "# Adults over 40\n"
      ],
      "metadata": {
        "id": "kQjupDLEKGTd"
      }
    },
    {
      "cell_type": "code",
      "source": [
        "# create dataframe for people above age 40\n",
        "adultAbove40 <- adult_training[adult_training$age > 40, ]"
      ],
      "metadata": {
        "id": "nTNqIhayKdMH"
      },
      "execution_count": 35,
      "outputs": []
    },
    {
      "cell_type": "code",
      "source": [
        "# create table with marital status and sex for individuals above 40\n",
        "mss_40 <- table(adultAbove40$sex, adultAbove40$`marital-status`)\n",
        "print(mss_40)"
      ],
      "metadata": {
        "colab": {
          "base_uri": "https://localhost:8080/"
        },
        "id": "2Dur6EaSQNcO",
        "outputId": "04cf435a-86f7-40e2-cde0-a0111ad8415e"
      },
      "execution_count": 37,
      "outputs": [
        {
          "output_type": "stream",
          "name": "stdout",
          "text": [
            "        \n",
            "         Divorced Married-civ-spouse Married-spouse-absent Never-married\n",
            "  Female      720                305                    38           256\n",
            "  Male        448               3383                    47           315\n",
            "        \n",
            "         Separated Widowed\n",
            "  Female       133     354\n",
            "  Male          74      71\n"
          ]
        }
      ]
    },
    {
      "cell_type": "markdown",
      "source": [
        "# Over 40 Martial-Sex Contingency Table Plot"
      ],
      "metadata": {
        "id": "DG1ds7sXKIOj"
      }
    },
    {
      "cell_type": "code",
      "source": [
        "# create bar plot\n",
        "barplot(mss_40, legend = rownames(ws_table), beside = TRUE, col=c(\"green\",\"blue\"))"
      ],
      "metadata": {
        "colab": {
          "base_uri": "https://localhost:8080/",
          "height": 437
        },
        "id": "93gzVWfdKdew",
        "outputId": "7a0d652d-9300-48fb-a682-121a6d7b4a14"
      },
      "execution_count": 39,
      "outputs": [
        {
          "output_type": "display_data",
          "data": {
            "text/plain": [
              "plot without title"
            ],
            "image/png": "[encoded data removed]"
          },
          "metadata": {
            "image/png": {
              "width": 420,
              "height": 420
            }
          }
        }
      ]
    },
    {
      "cell_type": "markdown",
      "source": [
        "From this data we can deduce that the population above 40 is more-married than the whole population."
      ],
      "metadata": {
        "id": "6qZzIfH-aBi7"
      }
    },
    {
      "cell_type": "markdown",
      "source": [
        "# Education Outliers"
      ],
      "metadata": {
        "id": "B2Yt0EUAKJ7a"
      }
    },
    {
      "cell_type": "code",
      "source": [
        "# create a new education column without outliers\n",
        "adult_training$education_no_outliers <- scale(x = adult_training$education)\n",
        "\n",
        "summary(adult_training$education_no_outliers)"
      ],
      "metadata": {
        "colab": {
          "base_uri": "https://localhost:8080/",
          "height": 139
        },
        "id": "ApzR21SCKdzz",
        "outputId": "efea9a05-0685-46b4-bbf3-67d445be0566"
      },
      "execution_count": 65,
      "outputs": [
        {
          "output_type": "display_data",
          "data": {
            "text/plain": [
              "       V1          \n",
              " Min.   :-3.49029  \n",
              " 1st Qu.:-0.41135  \n",
              " Median :-0.02648  \n",
              " Mean   : 0.00000  \n",
              " 3rd Qu.: 0.74326  \n",
              " Max.   : 2.28273  "
            ]
          },
          "metadata": {}
        }
      ]
    },
    {
      "cell_type": "code",
      "source": [
        "# define 3sig rule\n",
        "threesig_education <- (adult_training$education_no_outliers > 3) | (adult_training$education_no_outliers < -3)\n",
        "# 3sig for edu\n",
        "education_outliers <- adult_training$education_no_outliers[which(threesig_education)]\n",
        "\n",
        "cat(\"Num Outliers in Education Column:\", length(education_outliers))"
      ],
      "metadata": {
        "colab": {
          "base_uri": "https://localhost:8080/"
        },
        "id": "241jY3I2RGoU",
        "outputId": "ae0ffdbd-8be7-40a9-d6c1-5b2e6c3a3e27"
      },
      "execution_count": 66,
      "outputs": [
        {
          "output_type": "stream",
          "name": "stdout",
          "text": [
            "Num Outliers in Education Column: 113"
          ]
        }
      ]
    },
    {
      "cell_type": "markdown",
      "source": [
        "#Age Outliers\n"
      ],
      "metadata": {
        "id": "EaMp-kQAKLV6"
      }
    },
    {
      "cell_type": "code",
      "source": [
        "# create column with no outliers in age\n",
        "adult_training$age_no_outliers <- scale(x = adult_training$age)\n",
        "\n",
        "summary(adult_training$age_no_outliers)"
      ],
      "metadata": {
        "colab": {
          "base_uri": "https://localhost:8080/",
          "height": 139
        },
        "id": "5BjoETqNKeFV",
        "outputId": "6375c907-90d4-41a8-e5af-dcebcee62591"
      },
      "execution_count": 44,
      "outputs": [
        {
          "output_type": "display_data",
          "data": {
            "text/plain": [
              "       V1         \n",
              " Min.   :-1.5855  \n",
              " 1st Qu.:-0.7813  \n",
              " Median :-0.1234  \n",
              " Mean   : 0.0000  \n",
              " 3rd Qu.: 0.6808  \n",
              " Max.   : 3.7512  "
            ]
          },
          "metadata": {}
        }
      ]
    },
    {
      "cell_type": "code",
      "source": [
        "# define 3sig rule\n",
        "threesig_age <- (adult_training$age_no_outliers > 3) | (adult_training$age_no_outliers < -3)\n",
        "# 3sig for age\n",
        "age_outliers <- adult_training$age_no_outliers[which(threesig_age)]\n",
        "\n",
        "cat(\"Num Outliers in Education Column:\", length(age_outliers))"
      ],
      "metadata": {
        "colab": {
          "base_uri": "https://localhost:8080/"
        },
        "id": "gbrOmWV4RZDo",
        "outputId": "9f6a252d-a05e-4f24-a3c3-71289b9ef05f"
      },
      "execution_count": 45,
      "outputs": [
        {
          "output_type": "stream",
          "name": "stdout",
          "text": [
            "Num Outliers in Education Column: 60"
          ]
        }
      ]
    },
    {
      "cell_type": "markdown",
      "source": [
        "# Age Anomalies Check"
      ],
      "metadata": {
        "id": "eBUx3y4_KOdu"
      }
    },
    {
      "cell_type": "code",
      "source": [
        "# create new table of all people above or at age 80\n",
        "age_anomaly <- adult_training[adult_training$age >= 80 , ]"
      ],
      "metadata": {
        "id": "8z4hM2KzR5gU"
      },
      "execution_count": 58,
      "outputs": []
    },
    {
      "cell_type": "code",
      "source": [
        "# create graph\n",
        "hist(age_anomaly$age, col=\"green\", main = \"Histogram of Ages of at Least 80\", breaks=10, xlab = \"Age\", ylab = \"# People\")"
      ],
      "metadata": {
        "colab": {
          "base_uri": "https://localhost:8080/",
          "height": 437
        },
        "id": "UqM787eXKea4",
        "outputId": "7a6799a8-d06e-4f7c-cb9f-8cdcafa62c43"
      },
      "execution_count": 64,
      "outputs": [
        {
          "output_type": "display_data",
          "data": {
            "text/plain": [
              "Plot with title “Histogram of Ages of at Least 80”"
            ],
            "image/png": "[encoded data removed]"
          },
          "metadata": {
            "image/png": {
              "width": 420,
              "height": 420
            }
          }
        }
      ]
    },
    {
      "cell_type": "markdown",
      "source": [
        "From this graph, I can deduce that an overwhelming majority of people are between the ages of 88-90 within this set of people."
      ],
      "metadata": {
        "id": "rG2A-ioKZ-IU"
      }
    },
    {
      "cell_type": "markdown",
      "source": [
        "# Summary"
      ],
      "metadata": {
        "id": "NKMueB68XeB2"
      }
    },
    {
      "cell_type": "markdown",
      "source": [
        "Following cleaning the data and creation of tables and graphs, I can deduce a few things:\n",
        "*   The majority of people in the working class work at private firms\n",
        "*   The majority of men are married to civ-spouses\n",
        "*   The majority of people above 40 are married\n",
        "*   The majority of individuals above 80 years of age are between 88 years and 90 years old"
      ],
      "metadata": {
        "id": "DtFVqUQBXgY4"
      }
    }
  ]
}