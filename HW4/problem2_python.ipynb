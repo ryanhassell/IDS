{
  "nbformat": 4,
  "nbformat_minor": 0,
  "metadata": {
    "colab": {
      "provenance": [],
      "authorship_tag": "ABX9TyNOHolf0sltJcx4DZC1fTsn",
      "include_colab_link": true
    },
    "kernelspec": {
      "name": "python3",
      "display_name": "Python 3"
    },
    "language_info": {
      "name": "python"
    }
  },
  "cells": [
    {
      "cell_type": "markdown",
      "metadata": {
        "id": "view-in-github",
        "colab_type": "text"
      },
      "source": [
        "<a href=\"https://colab.research.google.com/github/ryanhassell/IDS/blob/main/HW4/problem2_python.ipynb\" target=\"_parent\"><img src=\"https://colab.research.google.com/assets/colab-badge.svg\" alt=\"Open In Colab\"/></a>"
      ]
    },
    {
      "cell_type": "markdown",
      "source": [
        "#Ryan Hassell"
      ],
      "metadata": {
        "id": "f_pYpmCrdjrL"
      }
    },
    {
      "cell_type": "markdown",
      "source": [
        "# Cleaning and Importing Data"
      ],
      "metadata": {
        "id": "iQG0b1MPetuf"
      }
    },
    {
      "cell_type": "code",
      "source": [
        "import pandas as pd\n",
        "# import data from csv\n",
        "nutrition = pd.read_csv(\"https://raw.githubusercontent.com/bforoura/IDS/main/HW4/nutrition_subset.csv\")"
      ],
      "metadata": {
        "id": "jwUTb_QYdl4Z"
      },
      "execution_count": 6,
      "outputs": []
    },
    {
      "cell_type": "code",
      "source": [
        "# print the imported data\n",
        "nutrition.describe()"
      ],
      "metadata": {
        "colab": {
          "base_uri": "https://localhost:8080/",
          "height": 300
        },
        "id": "UQz2d0CweL9-",
        "outputId": "824636f0-53ef-4611-958b-0f3100c5796d"
      },
      "execution_count": 7,
      "outputs": [
        {
          "output_type": "execute_result",
          "data": {
            "text/plain": [
              "       weight_in_grams  saturated_fat  cholesterol\n",
              "count       961.000000     961.000000    961.00000\n",
              "mean        149.409365       3.987617     32.55359\n",
              "std         175.909357      10.744359    119.96059\n",
              "min           0.400000       0.000000      0.00000\n",
              "25%          32.000000       0.000000      0.00000\n",
              "50%         113.000000       0.400000      0.00000\n",
              "75%         218.000000       3.300000     20.00000\n",
              "max        1542.000000     119.900000   2053.00000"
            ],
            "text/html": [
              "\n",
              "  <div id=\"df-27fb90cc-721d-4bd5-9ae4-59a1d6cf50cf\" class=\"colab-df-container\">\n",
              "    <div>\n",
              "<style scoped>\n",
              "    .dataframe tbody tr th:only-of-type {\n",
              "        vertical-align: middle;\n",
              "    }\n",
              "\n",
              "    .dataframe tbody tr th {\n",
              "        vertical-align: top;\n",
              "    }\n",
              "\n",
              "    .dataframe thead th {\n",
              "        text-align: right;\n",
              "    }\n",
              "</style>\n",
              "<table border=\"1\" class=\"dataframe\">\n",
              "  <thead>\n",
              "    <tr style=\"text-align: right;\">\n",
              "      <th></th>\n",
              "      <th>weight_in_grams</th>\n",
              "      <th>saturated_fat</th>\n",
              "      <th>cholesterol</th>\n",
              "    </tr>\n",
              "  </thead>\n",
              "  <tbody>\n",
              "    <tr>\n",
              "      <th>count</th>\n",
              "      <td>961.000000</td>\n",
              "      <td>961.000000</td>\n",
              "      <td>961.00000</td>\n",
              "    </tr>\n",
              "    <tr>\n",
              "      <th>mean</th>\n",
              "      <td>149.409365</td>\n",
              "      <td>3.987617</td>\n",
              "      <td>32.55359</td>\n",
              "    </tr>\n",
              "    <tr>\n",
              "      <th>std</th>\n",
              "      <td>175.909357</td>\n",
              "      <td>10.744359</td>\n",
              "      <td>119.96059</td>\n",
              "    </tr>\n",
              "    <tr>\n",
              "      <th>min</th>\n",
              "      <td>0.400000</td>\n",
              "      <td>0.000000</td>\n",
              "      <td>0.00000</td>\n",
              "    </tr>\n",
              "    <tr>\n",
              "      <th>25%</th>\n",
              "      <td>32.000000</td>\n",
              "      <td>0.000000</td>\n",
              "      <td>0.00000</td>\n",
              "    </tr>\n",
              "    <tr>\n",
              "      <th>50%</th>\n",
              "      <td>113.000000</td>\n",
              "      <td>0.400000</td>\n",
              "      <td>0.00000</td>\n",
              "    </tr>\n",
              "    <tr>\n",
              "      <th>75%</th>\n",
              "      <td>218.000000</td>\n",
              "      <td>3.300000</td>\n",
              "      <td>20.00000</td>\n",
              "    </tr>\n",
              "    <tr>\n",
              "      <th>max</th>\n",
              "      <td>1542.000000</td>\n",
              "      <td>119.900000</td>\n",
              "      <td>2053.00000</td>\n",
              "    </tr>\n",
              "  </tbody>\n",
              "</table>\n",
              "</div>\n",
              "    <div class=\"colab-df-buttons\">\n",
              "\n",
              "  <div class=\"colab-df-container\">\n",
              "    <button class=\"colab-df-convert\" onclick=\"convertToInteractive('df-27fb90cc-721d-4bd5-9ae4-59a1d6cf50cf')\"\n",
              "            title=\"Convert this dataframe to an interactive table.\"\n",
              "            style=\"display:none;\">\n",
              "\n",
              "  <svg xmlns=\"http://www.w3.org/2000/svg\" height=\"24px\" viewBox=\"0 -960 960 960\">\n",
              "    <path d=\"M120-120v-720h720v720H120Zm60-500h600v-160H180v160Zm220 220h160v-160H400v160Zm0 220h160v-160H400v160ZM180-400h160v-160H180v160Zm440 0h160v-160H620v160ZM180-180h160v-160H180v160Zm440 0h160v-160H620v160Z\"/>\n",
              "  </svg>\n",
              "    </button>\n",
              "\n",
              "  <style>\n",
              "    .colab-df-container {\n",
              "      display:flex;\n",
              "      gap: 12px;\n",
              "    }\n",
              "\n",
              "    .colab-df-convert {\n",
              "      background-color: #E8F0FE;\n",
              "      border: none;\n",
              "      border-radius: 50%;\n",
              "      cursor: pointer;\n",
              "      display: none;\n",
              "      fill: #1967D2;\n",
              "      height: 32px;\n",
              "      padding: 0 0 0 0;\n",
              "      width: 32px;\n",
              "    }\n",
              "\n",
              "    .colab-df-convert:hover {\n",
              "      background-color: #E2EBFA;\n",
              "      box-shadow: 0px 1px 2px rgba(60, 64, 67, 0.3), 0px 1px 3px 1px rgba(60, 64, 67, 0.15);\n",
              "      fill: #174EA6;\n",
              "    }\n",
              "\n",
              "    .colab-df-buttons div {\n",
              "      margin-bottom: 4px;\n",
              "    }\n",
              "\n",
              "    [theme=dark] .colab-df-convert {\n",
              "      background-color: #3B4455;\n",
              "      fill: #D2E3FC;\n",
              "    }\n",
              "\n",
              "    [theme=dark] .colab-df-convert:hover {\n",
              "      background-color: #434B5C;\n",
              "      box-shadow: 0px 1px 3px 1px rgba(0, 0, 0, 0.15);\n",
              "      filter: drop-shadow(0px 1px 2px rgba(0, 0, 0, 0.3));\n",
              "      fill: #FFFFFF;\n",
              "    }\n",
              "  </style>\n",
              "\n",
              "    <script>\n",
              "      const buttonEl =\n",
              "        document.querySelector('#df-27fb90cc-721d-4bd5-9ae4-59a1d6cf50cf button.colab-df-convert');\n",
              "      buttonEl.style.display =\n",
              "        google.colab.kernel.accessAllowed ? 'block' : 'none';\n",
              "\n",
              "      async function convertToInteractive(key) {\n",
              "        const element = document.querySelector('#df-27fb90cc-721d-4bd5-9ae4-59a1d6cf50cf');\n",
              "        const dataTable =\n",
              "          await google.colab.kernel.invokeFunction('convertToInteractive',\n",
              "                                                    [key], {});\n",
              "        if (!dataTable) return;\n",
              "\n",
              "        const docLinkHtml = 'Like what you see? Visit the ' +\n",
              "          '<a target=\"_blank\" href=https://colab.research.google.com/notebooks/data_table.ipynb>data table notebook</a>'\n",
              "          + ' to learn more about interactive tables.';\n",
              "        element.innerHTML = '';\n",
              "        dataTable['output_type'] = 'display_data';\n",
              "        await google.colab.output.renderOutput(dataTable, element);\n",
              "        const docLink = document.createElement('div');\n",
              "        docLink.innerHTML = docLinkHtml;\n",
              "        element.appendChild(docLink);\n",
              "      }\n",
              "    </script>\n",
              "  </div>\n",
              "\n",
              "\n",
              "<div id=\"df-78365b3f-09e8-4611-b400-9465d8dab3e9\">\n",
              "  <button class=\"colab-df-quickchart\" onclick=\"quickchart('df-78365b3f-09e8-4611-b400-9465d8dab3e9')\"\n",
              "            title=\"Suggest charts.\"\n",
              "            style=\"display:none;\">\n",
              "\n",
              "<svg xmlns=\"http://www.w3.org/2000/svg\" height=\"24px\"viewBox=\"0 0 24 24\"\n",
              "     width=\"24px\">\n",
              "    <g>\n",
              "        <path d=\"M19 3H5c-1.1 0-2 .9-2 2v14c0 1.1.9 2 2 2h14c1.1 0 2-.9 2-2V5c0-1.1-.9-2-2-2zM9 17H7v-7h2v7zm4 0h-2V7h2v10zm4 0h-2v-4h2v4z\"/>\n",
              "    </g>\n",
              "</svg>\n",
              "  </button>\n",
              "\n",
              "<style>\n",
              "  .colab-df-quickchart {\n",
              "      --bg-color: #E8F0FE;\n",
              "      --fill-color: #1967D2;\n",
              "      --hover-bg-color: #E2EBFA;\n",
              "      --hover-fill-color: #174EA6;\n",
              "      --disabled-fill-color: #AAA;\n",
              "      --disabled-bg-color: #DDD;\n",
              "  }\n",
              "\n",
              "  [theme=dark] .colab-df-quickchart {\n",
              "      --bg-color: #3B4455;\n",
              "      --fill-color: #D2E3FC;\n",
              "      --hover-bg-color: #434B5C;\n",
              "      --hover-fill-color: #FFFFFF;\n",
              "      --disabled-bg-color: #3B4455;\n",
              "      --disabled-fill-color: #666;\n",
              "  }\n",
              "\n",
              "  .colab-df-quickchart {\n",
              "    background-color: var(--bg-color);\n",
              "    border: none;\n",
              "    border-radius: 50%;\n",
              "    cursor: pointer;\n",
              "    display: none;\n",
              "    fill: var(--fill-color);\n",
              "    height: 32px;\n",
              "    padding: 0;\n",
              "    width: 32px;\n",
              "  }\n",
              "\n",
              "  .colab-df-quickchart:hover {\n",
              "    background-color: var(--hover-bg-color);\n",
              "    box-shadow: 0 1px 2px rgba(60, 64, 67, 0.3), 0 1px 3px 1px rgba(60, 64, 67, 0.15);\n",
              "    fill: var(--button-hover-fill-color);\n",
              "  }\n",
              "\n",
              "  .colab-df-quickchart-complete:disabled,\n",
              "  .colab-df-quickchart-complete:disabled:hover {\n",
              "    background-color: var(--disabled-bg-color);\n",
              "    fill: var(--disabled-fill-color);\n",
              "    box-shadow: none;\n",
              "  }\n",
              "\n",
              "  .colab-df-spinner {\n",
              "    border: 2px solid var(--fill-color);\n",
              "    border-color: transparent;\n",
              "    border-bottom-color: var(--fill-color);\n",
              "    animation:\n",
              "      spin 1s steps(1) infinite;\n",
              "  }\n",
              "\n",
              "  @keyframes spin {\n",
              "    0% {\n",
              "      border-color: transparent;\n",
              "      border-bottom-color: var(--fill-color);\n",
              "      border-left-color: var(--fill-color);\n",
              "    }\n",
              "    20% {\n",
              "      border-color: transparent;\n",
              "      border-left-color: var(--fill-color);\n",
              "      border-top-color: var(--fill-color);\n",
              "    }\n",
              "    30% {\n",
              "      border-color: transparent;\n",
              "      border-left-color: var(--fill-color);\n",
              "      border-top-color: var(--fill-color);\n",
              "      border-right-color: var(--fill-color);\n",
              "    }\n",
              "    40% {\n",
              "      border-color: transparent;\n",
              "      border-right-color: var(--fill-color);\n",
              "      border-top-color: var(--fill-color);\n",
              "    }\n",
              "    60% {\n",
              "      border-color: transparent;\n",
              "      border-right-color: var(--fill-color);\n",
              "    }\n",
              "    80% {\n",
              "      border-color: transparent;\n",
              "      border-right-color: var(--fill-color);\n",
              "      border-bottom-color: var(--fill-color);\n",
              "    }\n",
              "    90% {\n",
              "      border-color: transparent;\n",
              "      border-bottom-color: var(--fill-color);\n",
              "    }\n",
              "  }\n",
              "</style>\n",
              "\n",
              "  <script>\n",
              "    async function quickchart(key) {\n",
              "      const quickchartButtonEl =\n",
              "        document.querySelector('#' + key + ' button');\n",
              "      quickchartButtonEl.disabled = true;  // To prevent multiple clicks.\n",
              "      quickchartButtonEl.classList.add('colab-df-spinner');\n",
              "      try {\n",
              "        const charts = await google.colab.kernel.invokeFunction(\n",
              "            'suggestCharts', [key], {});\n",
              "      } catch (error) {\n",
              "        console.error('Error during call to suggestCharts:', error);\n",
              "      }\n",
              "      quickchartButtonEl.classList.remove('colab-df-spinner');\n",
              "      quickchartButtonEl.classList.add('colab-df-quickchart-complete');\n",
              "    }\n",
              "    (() => {\n",
              "      let quickchartButtonEl =\n",
              "        document.querySelector('#df-78365b3f-09e8-4611-b400-9465d8dab3e9 button');\n",
              "      quickchartButtonEl.style.display =\n",
              "        google.colab.kernel.accessAllowed ? 'block' : 'none';\n",
              "    })();\n",
              "  </script>\n",
              "</div>\n",
              "    </div>\n",
              "  </div>\n"
            ]
          },
          "metadata": {},
          "execution_count": 7
        }
      ]
    },
    {
      "cell_type": "markdown",
      "source": [
        "This data has some 0s in it, but these zeroes are, in this case, actually valid for this table. This is because this table displays nutrition facts, which can, and do, have 0s."
      ],
      "metadata": {
        "id": "yHlqQ0gGenBO"
      }
    },
    {
      "cell_type": "markdown",
      "source": [
        "# Sorting the Data"
      ],
      "metadata": {
        "id": "p1yRqVUHgYvM"
      }
    },
    {
      "cell_type": "code",
      "source": [
        "# sort data by \"saturated_fat\" column\n",
        "sorted_by_saturated_fat = nutrition.sort_values(by='saturated_fat', ascending=False)\n",
        "print(sorted_by_saturated_fat.head(5))"
      ],
      "metadata": {
        "colab": {
          "base_uri": "https://localhost:8080/"
        },
        "id": "q7CbX7n-hVy7",
        "outputId": "786c0164-cccd-4dc6-dcdd-df85ba8032b4"
      },
      "execution_count": 16,
      "outputs": [
        {
          "output_type": "stream",
          "name": "stdout",
          "text": [
            "                                  food item  weight_in_grams  saturated_fat  \\\n",
            "378  CHEESECAKE                    1 CAKE             1110.0          119.9   \n",
            "535  ICE CREAM; VANLLA; RICH 16% FT1/2 GAL            1188.0          118.3   \n",
            "458  YELLOWCAKE W/ CHOCFRSTNG;COMML1 CAKE             1108.0           92.0   \n",
            "581  CREME PIE                     1 PIE               910.0           90.1   \n",
            "890  LARD                          1 CUP               205.0           80.4   \n",
            "\n",
            "     cholesterol  saturated_fat_per_gram  scaled_saturated_fat_per_gram  \n",
            "378         2053                0.108018                       1.071922  \n",
            "535          703                0.099579                       0.944246  \n",
            "458          609                0.083032                       0.693904  \n",
            "581           46                0.099011                       0.935650  \n",
            "890          195                0.392195                       5.371375  \n"
          ]
        }
      ]
    },
    {
      "cell_type": "markdown",
      "source": [
        "According to this list, cheesecake is the worst. However, this list of items is not accurate in this sense because the size of each item is inconsistent. We need to compare stats by gram, not by the whole item.\n",
        "\n",
        "In order to do this, we should create a new column saturated_fat_by_gram."
      ],
      "metadata": {
        "id": "GKnVkrx-kyKj"
      }
    },
    {
      "cell_type": "markdown",
      "source": [
        "# Saturated Fat By Gram"
      ],
      "metadata": {
        "id": "mi5hwoac20_U"
      }
    },
    {
      "cell_type": "code",
      "source": [
        "# create new saturated fat per gram column\n",
        "nutrition['saturated_fat_per_gram'] = nutrition['saturated_fat'] / nutrition['weight_in_grams']\n",
        "\n",
        "# sort the new column\n",
        "sorted = nutrition.sort_values(by='saturated_fat_per_gram', ascending=False)\n",
        "\n",
        "print(sorted.head(5))"
      ],
      "metadata": {
        "colab": {
          "base_uri": "https://localhost:8080/"
        },
        "id": "E245W-Sv2w4x",
        "outputId": "c52d3b75-baab-40d3-90d0-66ee25376d06"
      },
      "execution_count": 9,
      "outputs": [
        {
          "output_type": "stream",
          "name": "stdout",
          "text": [
            "                                  food item  weight_in_grams  saturated_fat  \\\n",
            "908  BUTTER; SALTED                1 TBSP               14.0            7.1   \n",
            "909  BUTTER; UNSALTED              1 TBSP               14.0            7.1   \n",
            "710  BUTTER; UNSALTED              1/2 CUP             113.0           57.1   \n",
            "709  BUTTER; SALTED                1/2 CUP             113.0           57.1   \n",
            "913  BUTTER; UNSALTED              1 PAT                 5.0            2.5   \n",
            "\n",
            "     cholesterol  saturated_fat_per_gram  \n",
            "908           31                0.507143  \n",
            "909           31                0.507143  \n",
            "710          247                0.505310  \n",
            "709          247                0.505310  \n",
            "913           11                0.500000  \n"
          ]
        }
      ]
    },
    {
      "cell_type": "markdown",
      "source": [
        "Now, when correctly comparing the five items, Butter now comes out to be the fattiest item."
      ],
      "metadata": {
        "id": "YyCjdrFmF4bg"
      }
    },
    {
      "cell_type": "markdown",
      "source": [
        "#Standardization"
      ],
      "metadata": {
        "id": "TXQU_GcwGCgH"
      }
    },
    {
      "cell_type": "code",
      "source": [
        "from scipy import stats\n",
        "\n",
        "# scale the data\n",
        "nutrition['scaled_saturated_fat_per_gram'] = stats.zscore(nutrition.saturated_fat_per_gram, nan_policy='omit')\n",
        "\n",
        "# get outliers\n",
        "outliers = nutrition[(nutrition['scaled_saturated_fat_per_gram'] > 3) | (nutrition['scaled_saturated_fat_per_gram'] < -3)]\n",
        "\n",
        "# sort\n",
        "outliers.sort_values(by='scaled_saturated_fat_per_gram', ascending=False)\n",
        "\n",
        "print(\"Column saturated_fat_per_gram has\",len(outliers),\"outliers.\")\n",
        "print(outliers)\n"
      ],
      "metadata": {
        "colab": {
          "base_uri": "https://localhost:8080/"
        },
        "id": "VdrG3kh-GHQh",
        "outputId": "e80e855f-2fb4-4b50-c034-461c78eb4413"
      },
      "execution_count": 31,
      "outputs": [
        {
          "output_type": "stream",
          "name": "stdout",
          "text": [
            "Column saturated_fat_per_gram has 15 outliers.\n",
            "                                  food item  weight_in_grams  saturated_fat  \\\n",
            "210  CHOCOLATE; BITTER OT BAKING   1 OZ                28.35            9.0   \n",
            "448  COCONUT; RAW; SHREDDED        1 CUP               80.00           23.8   \n",
            "492  COCONUT; DRIED; SWEETND;SHREDD1 CUP               93.00           29.3   \n",
            "576  COCONUT; RAW; PIECE           1 PIECE             45.00           13.4   \n",
            "709  BUTTER; SALTED                1/2 CUP            113.00           57.1   \n",
            "710  BUTTER; UNSALTED              1/2 CUP            113.00           57.1   \n",
            "890  LARD                          1 CUP              205.00           80.4   \n",
            "898  FATS; COOKING/VEGETBL SHORTENG1 TBSP              13.00            3.3   \n",
            "899  LARD                          1 TBSP              13.00            5.1   \n",
            "907  FATS; COOKING/VEGETBL SHORTENG1 CUP              205.00           51.3   \n",
            "908  BUTTER; SALTED                1 TBSP              14.00            7.1   \n",
            "909  BUTTER; UNSALTED              1 TBSP              14.00            7.1   \n",
            "912  BUTTER; SALTED                1 PAT                5.00            2.5   \n",
            "913  BUTTER; UNSALTED              1 PAT                5.00            2.5   \n",
            "920  IMITATION CREAMERS; POWDERED  1 TSP                2.00            0.7   \n",
            "\n",
            "     cholesterol  saturated_fat_per_gram  scaled_saturated_fat_per_gram  \\\n",
            "210            0                0.317460                       4.240676   \n",
            "448            0                0.297500                       3.938687   \n",
            "492            0                0.315054                       4.204266   \n",
            "576            0                0.297778                       3.942889   \n",
            "709          247                0.505310                       7.082741   \n",
            "710          247                0.505310                       7.082741   \n",
            "890          195                0.392195                       5.371375   \n",
            "898            0                0.253846                       3.278227   \n",
            "899           12                0.392308                       5.373078   \n",
            "907            0                0.250244                       3.223726   \n",
            "908           31                0.507143                       7.110475   \n",
            "909           31                0.507143                       7.110475   \n",
            "912           11                0.500000                       7.002408   \n",
            "913           11                0.500000                       7.002408   \n",
            "920            0                0.350000                       4.732985   \n",
            "\n",
            "     scaled_cholesterol  scaled_weight_in_grams  \n",
            "210           -0.271510               -0.688550  \n",
            "448           -0.271510               -0.394780  \n",
            "492           -0.271510               -0.320840  \n",
            "576           -0.271510               -0.593850  \n",
            "709            1.788571               -0.207086  \n",
            "710            1.788571               -0.207086  \n",
            "890            1.354870                0.316183  \n",
            "898           -0.271510               -0.775856  \n",
            "899           -0.171425               -0.775856  \n",
            "907           -0.271510                0.316183  \n",
            "908           -0.012958               -0.770169  \n",
            "909           -0.012958               -0.770169  \n",
            "912           -0.179766               -0.821358  \n",
            "913           -0.179766               -0.821358  \n",
            "920           -0.271510               -0.838421  \n"
          ]
        }
      ]
    },
    {
      "cell_type": "code",
      "source": [
        "import matplotlib.pyplot as plt\n",
        "\n",
        "# create plot of normal saturated fat\n",
        "nutrition.saturated_fat_per_gram.plot.density(color=\"green\")\n",
        "plt.title('Density of Saturated Fat/g')\n",
        "plt.show()\n",
        "\n",
        "# create the plot of scaled saturated fat\n",
        "nutrition.scaled_saturated_fat_per_gram.plot.density(color=\"blue\")\n",
        "plt.title('Density of Scaled Saturated Fat/g')\n",
        "plt.show()\n"
      ],
      "metadata": {
        "colab": {
          "base_uri": "https://localhost:8080/",
          "height": 887
        },
        "id": "XQfa6muXLjJz",
        "outputId": "5f037cb3-ad73-4049-abb7-836aa74eb86c"
      },
      "execution_count": 32,
      "outputs": [
        {
          "output_type": "display_data",
          "data": {
            "text/plain": [
              "<Figure size 640x480 with 1 Axes>"
            ],
            "image/png": "[encoded data removed]"
          },
          "metadata": {}
        },
        {
          "output_type": "display_data",
          "data": {
            "text/plain": [
              "<Figure size 640x480 with 1 Axes>"
            ],
            "image/png": "[encoded data removed]"
          },
          "metadata": {}
        }
      ]
    },
    {
      "cell_type": "markdown",
      "source": [
        "#High and Low ends"
      ],
      "metadata": {
        "id": "CGNSdAbMUZQ7"
      }
    },
    {
      "cell_type": "code",
      "source": [
        "high = outliers.query('(scaled_saturated_fat_per_gram > 3)')\n",
        "low = outliers.query('(scaled_saturated_fat_per_gram < -3)')\n",
        "\n",
        "print(\"# of outliers on the high end of scale:\",len(high))\n",
        "print(\"# of outliers on the low end of scale:\",len(low))"
      ],
      "metadata": {
        "colab": {
          "base_uri": "https://localhost:8080/"
        },
        "id": "7YmnDfQrUYHL",
        "outputId": "b1dd00cf-7754-43f5-dfb1-3338eb3aafb2"
      },
      "execution_count": 42,
      "outputs": [
        {
          "output_type": "stream",
          "name": "stdout",
          "text": [
            "# of outliers on the high end of scale: 15\n",
            "# of outliers on the low end of scale: 0\n"
          ]
        }
      ]
    },
    {
      "cell_type": "markdown",
      "source": [
        "#Missing Values"
      ],
      "metadata": {
        "id": "fA-CFQWTOvnO"
      }
    },
    {
      "cell_type": "code",
      "source": [
        "# check for missing values\n",
        "nutrition.isna().any()"
      ],
      "metadata": {
        "colab": {
          "base_uri": "https://localhost:8080/"
        },
        "id": "L822bNshPHBq",
        "outputId": "297af43c-5152-4160-cfc0-239c7dca7605"
      },
      "execution_count": 33,
      "outputs": [
        {
          "output_type": "execute_result",
          "data": {
            "text/plain": [
              "food item                        False\n",
              "weight_in_grams                  False\n",
              "saturated_fat                    False\n",
              "cholesterol                      False\n",
              "saturated_fat_per_gram           False\n",
              "scaled_saturated_fat_per_gram    False\n",
              "scaled_cholesterol               False\n",
              "scaled_weight_in_grams           False\n",
              "dtype: bool"
            ]
          },
          "metadata": {},
          "execution_count": 33
        }
      ]
    },
    {
      "cell_type": "markdown",
      "source": [
        "#Check other variables for outliers"
      ],
      "metadata": {
        "id": "F3kyneZVQeNA"
      }
    },
    {
      "cell_type": "code",
      "source": [
        "# cholesterol\n",
        "# scale the data\n",
        "nutrition['scaled_cholesterol'] = stats.zscore(nutrition.cholesterol, nan_policy='omit')\n",
        "\n",
        "# get outliers\n",
        "outliers_chol = nutrition[(nutrition['scaled_cholesterol'] > 3) | (nutrition['scaled_cholesterol'] < -3)]\n",
        "\n",
        "# sort\n",
        "outliers_chol.sort_values(by='scaled_cholesterol', ascending=False)\n",
        "\n",
        "print(\"Column saturated_cholesterol\",len(outliers_chol),\"outliers.\")\n",
        "print(outliers)"
      ],
      "metadata": {
        "colab": {
          "base_uri": "https://localhost:8080/"
        },
        "id": "ttQLk7FsQiBr",
        "outputId": "d0e86fbb-1671-4080-b8a3-90de971696d2"
      },
      "execution_count": 34,
      "outputs": [
        {
          "output_type": "stream",
          "name": "stdout",
          "text": [
            "Column saturated_cholesterol 17 outliers.\n",
            "                                  food item  weight_in_grams  saturated_fat  \\\n",
            "210  CHOCOLATE; BITTER OT BAKING   1 OZ                28.35            9.0   \n",
            "448  COCONUT; RAW; SHREDDED        1 CUP               80.00           23.8   \n",
            "492  COCONUT; DRIED; SWEETND;SHREDD1 CUP               93.00           29.3   \n",
            "576  COCONUT; RAW; PIECE           1 PIECE             45.00           13.4   \n",
            "709  BUTTER; SALTED                1/2 CUP            113.00           57.1   \n",
            "710  BUTTER; UNSALTED              1/2 CUP            113.00           57.1   \n",
            "890  LARD                          1 CUP              205.00           80.4   \n",
            "898  FATS; COOKING/VEGETBL SHORTENG1 TBSP              13.00            3.3   \n",
            "899  LARD                          1 TBSP              13.00            5.1   \n",
            "907  FATS; COOKING/VEGETBL SHORTENG1 CUP              205.00           51.3   \n",
            "908  BUTTER; SALTED                1 TBSP              14.00            7.1   \n",
            "909  BUTTER; UNSALTED              1 TBSP              14.00            7.1   \n",
            "912  BUTTER; SALTED                1 PAT                5.00            2.5   \n",
            "913  BUTTER; UNSALTED              1 PAT                5.00            2.5   \n",
            "920  IMITATION CREAMERS; POWDERED  1 TSP                2.00            0.7   \n",
            "\n",
            "     cholesterol  saturated_fat_per_gram  scaled_saturated_fat_per_gram  \\\n",
            "210            0                0.317460                       4.240676   \n",
            "448            0                0.297500                       3.938687   \n",
            "492            0                0.315054                       4.204266   \n",
            "576            0                0.297778                       3.942889   \n",
            "709          247                0.505310                       7.082741   \n",
            "710          247                0.505310                       7.082741   \n",
            "890          195                0.392195                       5.371375   \n",
            "898            0                0.253846                       3.278227   \n",
            "899           12                0.392308                       5.373078   \n",
            "907            0                0.250244                       3.223726   \n",
            "908           31                0.507143                       7.110475   \n",
            "909           31                0.507143                       7.110475   \n",
            "912           11                0.500000                       7.002408   \n",
            "913           11                0.500000                       7.002408   \n",
            "920            0                0.350000                       4.732985   \n",
            "\n",
            "     scaled_cholesterol  scaled_weight_in_grams  \n",
            "210           -0.271510               -0.688550  \n",
            "448           -0.271510               -0.394780  \n",
            "492           -0.271510               -0.320840  \n",
            "576           -0.271510               -0.593850  \n",
            "709            1.788571               -0.207086  \n",
            "710            1.788571               -0.207086  \n",
            "890            1.354870                0.316183  \n",
            "898           -0.271510               -0.775856  \n",
            "899           -0.171425               -0.775856  \n",
            "907           -0.271510                0.316183  \n",
            "908           -0.012958               -0.770169  \n",
            "909           -0.012958               -0.770169  \n",
            "912           -0.179766               -0.821358  \n",
            "913           -0.179766               -0.821358  \n",
            "920           -0.271510               -0.838421  \n"
          ]
        }
      ]
    },
    {
      "cell_type": "code",
      "source": [
        "# weight\n",
        "# scale the data\n",
        "nutrition['scaled_weight_in_grams'] = stats.zscore(nutrition.weight_in_grams, nan_policy='omit')\n",
        "\n",
        "# get outliers\n",
        "outliers_weight = nutrition[(nutrition['scaled_weight_in_grams'] > 3) | (nutrition['scaled_weight_in_grams'] < -3)]\n",
        "\n",
        "# sort\n",
        "outliers_weight.sort_values(by='scaled_weight_in_grams', ascending=False)\n",
        "\n",
        "print(\"Column saturated_cholesterol\",len(outliers_weight),\"outliers.\")\n",
        "print(outliers)"
      ],
      "metadata": {
        "colab": {
          "base_uri": "https://localhost:8080/"
        },
        "id": "vhEdRLnvRHDx",
        "outputId": "869bf73c-6def-4537-d1c9-d571b4737fae"
      },
      "execution_count": 35,
      "outputs": [
        {
          "output_type": "stream",
          "name": "stdout",
          "text": [
            "Column saturated_cholesterol 22 outliers.\n",
            "                                  food item  weight_in_grams  saturated_fat  \\\n",
            "210  CHOCOLATE; BITTER OT BAKING   1 OZ                28.35            9.0   \n",
            "448  COCONUT; RAW; SHREDDED        1 CUP               80.00           23.8   \n",
            "492  COCONUT; DRIED; SWEETND;SHREDD1 CUP               93.00           29.3   \n",
            "576  COCONUT; RAW; PIECE           1 PIECE             45.00           13.4   \n",
            "709  BUTTER; SALTED                1/2 CUP            113.00           57.1   \n",
            "710  BUTTER; UNSALTED              1/2 CUP            113.00           57.1   \n",
            "890  LARD                          1 CUP              205.00           80.4   \n",
            "898  FATS; COOKING/VEGETBL SHORTENG1 TBSP              13.00            3.3   \n",
            "899  LARD                          1 TBSP              13.00            5.1   \n",
            "907  FATS; COOKING/VEGETBL SHORTENG1 CUP              205.00           51.3   \n",
            "908  BUTTER; SALTED                1 TBSP              14.00            7.1   \n",
            "909  BUTTER; UNSALTED              1 TBSP              14.00            7.1   \n",
            "912  BUTTER; SALTED                1 PAT                5.00            2.5   \n",
            "913  BUTTER; UNSALTED              1 PAT                5.00            2.5   \n",
            "920  IMITATION CREAMERS; POWDERED  1 TSP                2.00            0.7   \n",
            "\n",
            "     cholesterol  saturated_fat_per_gram  scaled_saturated_fat_per_gram  \\\n",
            "210            0                0.317460                       4.240676   \n",
            "448            0                0.297500                       3.938687   \n",
            "492            0                0.315054                       4.204266   \n",
            "576            0                0.297778                       3.942889   \n",
            "709          247                0.505310                       7.082741   \n",
            "710          247                0.505310                       7.082741   \n",
            "890          195                0.392195                       5.371375   \n",
            "898            0                0.253846                       3.278227   \n",
            "899           12                0.392308                       5.373078   \n",
            "907            0                0.250244                       3.223726   \n",
            "908           31                0.507143                       7.110475   \n",
            "909           31                0.507143                       7.110475   \n",
            "912           11                0.500000                       7.002408   \n",
            "913           11                0.500000                       7.002408   \n",
            "920            0                0.350000                       4.732985   \n",
            "\n",
            "     scaled_cholesterol  scaled_weight_in_grams  \n",
            "210           -0.271510               -0.688550  \n",
            "448           -0.271510               -0.394780  \n",
            "492           -0.271510               -0.320840  \n",
            "576           -0.271510               -0.593850  \n",
            "709            1.788571               -0.207086  \n",
            "710            1.788571               -0.207086  \n",
            "890            1.354870                0.316183  \n",
            "898           -0.271510               -0.775856  \n",
            "899           -0.171425               -0.775856  \n",
            "907           -0.271510                0.316183  \n",
            "908           -0.012958               -0.770169  \n",
            "909           -0.012958               -0.770169  \n",
            "912           -0.179766               -0.821358  \n",
            "913           -0.179766               -0.821358  \n",
            "920           -0.271510               -0.838421  \n"
          ]
        }
      ]
    },
    {
      "cell_type": "markdown",
      "source": [
        "#Summary"
      ],
      "metadata": {
        "id": "VBV74eoTHL4q"
      }
    },
    {
      "cell_type": "markdown",
      "source": [
        "Through the investigation, I have discovered that, when sorted correctly (by satfat/g), the highest content of saturated fats is in butters. In terms of outliers, I have concluded that:\n",
        "\n",
        "*   Column 'cholesterol' has 17 outliers\n",
        "*   Column 'weight' has 22 outliers\n",
        "*   Column 'saturated_fat_per_gram' has 15 outliers\n",
        "\n"
      ],
      "metadata": {
        "id": "8UKSX2pFR9BN"
      }
    }
  ]
}